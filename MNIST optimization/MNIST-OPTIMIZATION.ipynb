{
 "cells": [
  {
   "cell_type": "code",
   "execution_count": null,
   "metadata": {
    "colab": {
     "base_uri": "https://localhost:8080/"
    },
    "executionInfo": {
     "elapsed": 33024,
     "status": "ok",
     "timestamp": 1628964101057,
     "user": {
      "displayName": "Adem Bakırcı",
      "photoUrl": "",
      "userId": "09233958262227189208"
     },
     "user_tz": -180
    },
    "id": "843CvzePf5AC",
    "outputId": "6a728b25-fdef-4480-cf66-3707699c1ead"
   },
   "outputs": [
    {
     "name": "stdout",
     "output_type": "stream",
     "text": [
      "Mounted at /content/drive\n"
     ]
    }
   ],
   "source": [
    "from google.colab import drive\n",
    "drive.mount(\"/content/drive\")"
   ]
  },
  {
   "cell_type": "code",
   "execution_count": null,
   "metadata": {
    "id": "B_0pdvqOgQnP"
   },
   "outputs": [],
   "source": [
    "#from google.colab import files\n",
    "#files.upload()"
   ]
  },
  {
   "cell_type": "code",
   "execution_count": null,
   "metadata": {
    "id": "phMBN-YJhMOj"
   },
   "outputs": [],
   "source": [
    "import pandas as pd \n",
    "from tensorflow.keras.models import Sequential\n",
    "from tensorflow.keras.layers import Dense\n",
    "import tensorflow as tf\n",
    "from tensorflow import keras"
   ]
  },
  {
   "cell_type": "code",
   "execution_count": null,
   "metadata": {
    "id": "U7wTnz62hw_A"
   },
   "outputs": [],
   "source": [
    "mnist=tf.keras.datasets.mnist\n",
    "(train_images, train_labels), (test_images, test_labels )=mnist.load_data()"
   ]
  },
  {
   "cell_type": "code",
   "execution_count": null,
   "metadata": {
    "colab": {
     "base_uri": "https://localhost:8080/"
    },
    "executionInfo": {
     "elapsed": 67332,
     "status": "ok",
     "timestamp": 1628998184043,
     "user": {
      "displayName": "Adem Bakırcı",
      "photoUrl": "",
      "userId": "09233958262227189208"
     },
     "user_tz": -180
    },
    "id": "jX_p0UxRh0qF",
    "outputId": "eafb8c62-dbb5-474c-b3d9-07a16725af3e"
   },
   "outputs": [
    {
     "name": "stdout",
     "output_type": "stream",
     "text": [
      "Epoch 1/40\n",
      "469/469 [==============================] - 2s 4ms/step - loss: 0.3841 - accuracy: 0.8927 - val_loss: 0.1870 - val_accuracy: 0.9443\n",
      "Epoch 2/40\n",
      "469/469 [==============================] - 2s 4ms/step - loss: 0.1685 - accuracy: 0.9504 - val_loss: 0.1390 - val_accuracy: 0.9603\n",
      "Epoch 3/40\n",
      "469/469 [==============================] - 2s 4ms/step - loss: 0.1243 - accuracy: 0.9636 - val_loss: 0.1190 - val_accuracy: 0.9641\n",
      "Epoch 4/40\n",
      "469/469 [==============================] - 2s 4ms/step - loss: 0.0996 - accuracy: 0.9698 - val_loss: 0.1040 - val_accuracy: 0.9675\n",
      "Epoch 5/40\n",
      "469/469 [==============================] - 2s 4ms/step - loss: 0.0834 - accuracy: 0.9743 - val_loss: 0.1072 - val_accuracy: 0.9688\n",
      "Epoch 6/40\n",
      "469/469 [==============================] - 2s 3ms/step - loss: 0.0695 - accuracy: 0.9790 - val_loss: 0.0924 - val_accuracy: 0.9724\n",
      "Epoch 7/40\n",
      "469/469 [==============================] - 2s 3ms/step - loss: 0.0596 - accuracy: 0.9814 - val_loss: 0.0953 - val_accuracy: 0.9727\n",
      "Epoch 8/40\n",
      "469/469 [==============================] - 2s 3ms/step - loss: 0.0518 - accuracy: 0.9843 - val_loss: 0.0922 - val_accuracy: 0.9709\n",
      "Epoch 9/40\n",
      "469/469 [==============================] - 2s 3ms/step - loss: 0.0457 - accuracy: 0.9866 - val_loss: 0.0963 - val_accuracy: 0.9704\n",
      "Epoch 10/40\n",
      "469/469 [==============================] - 2s 4ms/step - loss: 0.0399 - accuracy: 0.9875 - val_loss: 0.0947 - val_accuracy: 0.9710\n",
      "Epoch 11/40\n",
      "469/469 [==============================] - 2s 3ms/step - loss: 0.0352 - accuracy: 0.9893 - val_loss: 0.0991 - val_accuracy: 0.9711\n",
      "Epoch 12/40\n",
      "469/469 [==============================] - 2s 3ms/step - loss: 0.0320 - accuracy: 0.9898 - val_loss: 0.1001 - val_accuracy: 0.9710\n",
      "Epoch 13/40\n",
      "469/469 [==============================] - 2s 3ms/step - loss: 0.0272 - accuracy: 0.9915 - val_loss: 0.1019 - val_accuracy: 0.9718\n",
      "Epoch 14/40\n",
      "469/469 [==============================] - 2s 4ms/step - loss: 0.0251 - accuracy: 0.9919 - val_loss: 0.0949 - val_accuracy: 0.9746\n",
      "Epoch 15/40\n",
      "469/469 [==============================] - 2s 4ms/step - loss: 0.0210 - accuracy: 0.9941 - val_loss: 0.0928 - val_accuracy: 0.9756\n",
      "Epoch 16/40\n",
      "469/469 [==============================] - 2s 4ms/step - loss: 0.0197 - accuracy: 0.9939 - val_loss: 0.0985 - val_accuracy: 0.9743\n",
      "Epoch 17/40\n",
      "469/469 [==============================] - 2s 3ms/step - loss: 0.0173 - accuracy: 0.9947 - val_loss: 0.1106 - val_accuracy: 0.9738\n",
      "Epoch 18/40\n",
      "469/469 [==============================] - 2s 3ms/step - loss: 0.0161 - accuracy: 0.9950 - val_loss: 0.1143 - val_accuracy: 0.9716\n",
      "Epoch 19/40\n",
      "469/469 [==============================] - 2s 3ms/step - loss: 0.0138 - accuracy: 0.9955 - val_loss: 0.1059 - val_accuracy: 0.9744\n",
      "Epoch 20/40\n",
      "469/469 [==============================] - 2s 3ms/step - loss: 0.0137 - accuracy: 0.9957 - val_loss: 0.1039 - val_accuracy: 0.9748\n",
      "Epoch 21/40\n",
      "469/469 [==============================] - 2s 4ms/step - loss: 0.0113 - accuracy: 0.9966 - val_loss: 0.1096 - val_accuracy: 0.9751\n",
      "Epoch 22/40\n",
      "469/469 [==============================] - 2s 3ms/step - loss: 0.0115 - accuracy: 0.9965 - val_loss: 0.1084 - val_accuracy: 0.9759\n",
      "Epoch 23/40\n",
      "469/469 [==============================] - 2s 3ms/step - loss: 0.0111 - accuracy: 0.9964 - val_loss: 0.1199 - val_accuracy: 0.9727\n",
      "Epoch 24/40\n",
      "469/469 [==============================] - 2s 3ms/step - loss: 0.0084 - accuracy: 0.9975 - val_loss: 0.1184 - val_accuracy: 0.9739\n",
      "Epoch 25/40\n",
      "469/469 [==============================] - 2s 3ms/step - loss: 0.0073 - accuracy: 0.9976 - val_loss: 0.1197 - val_accuracy: 0.9741\n",
      "Epoch 26/40\n",
      "469/469 [==============================] - 2s 4ms/step - loss: 0.0070 - accuracy: 0.9979 - val_loss: 0.1263 - val_accuracy: 0.9747\n",
      "Epoch 27/40\n",
      "469/469 [==============================] - 2s 4ms/step - loss: 0.0106 - accuracy: 0.9965 - val_loss: 0.1272 - val_accuracy: 0.9735\n",
      "Epoch 28/40\n",
      "469/469 [==============================] - 2s 3ms/step - loss: 0.0099 - accuracy: 0.9968 - val_loss: 0.1347 - val_accuracy: 0.9718\n",
      "Epoch 29/40\n",
      "469/469 [==============================] - 2s 4ms/step - loss: 0.0044 - accuracy: 0.9990 - val_loss: 0.1270 - val_accuracy: 0.9755\n",
      "Epoch 30/40\n",
      "469/469 [==============================] - 2s 4ms/step - loss: 0.0028 - accuracy: 0.9995 - val_loss: 0.1237 - val_accuracy: 0.9750\n",
      "Epoch 31/40\n",
      "469/469 [==============================] - 2s 4ms/step - loss: 0.0106 - accuracy: 0.9966 - val_loss: 0.1603 - val_accuracy: 0.9687\n",
      "Epoch 32/40\n",
      "469/469 [==============================] - 2s 4ms/step - loss: 0.0118 - accuracy: 0.9960 - val_loss: 0.1294 - val_accuracy: 0.9741\n",
      "Epoch 33/40\n",
      "469/469 [==============================] - 2s 4ms/step - loss: 0.0045 - accuracy: 0.9987 - val_loss: 0.1312 - val_accuracy: 0.9758\n",
      "Epoch 34/40\n",
      "469/469 [==============================] - 2s 4ms/step - loss: 0.0046 - accuracy: 0.9985 - val_loss: 0.1307 - val_accuracy: 0.9755\n",
      "Epoch 35/40\n",
      "469/469 [==============================] - 2s 4ms/step - loss: 0.0065 - accuracy: 0.9979 - val_loss: 0.1515 - val_accuracy: 0.9718\n",
      "Epoch 36/40\n",
      "469/469 [==============================] - 2s 4ms/step - loss: 0.0084 - accuracy: 0.9973 - val_loss: 0.1440 - val_accuracy: 0.9737\n",
      "Epoch 37/40\n",
      "469/469 [==============================] - 2s 3ms/step - loss: 0.0047 - accuracy: 0.9987 - val_loss: 0.1345 - val_accuracy: 0.9747\n",
      "Epoch 38/40\n",
      "469/469 [==============================] - 2s 4ms/step - loss: 0.0040 - accuracy: 0.9988 - val_loss: 0.1445 - val_accuracy: 0.9734\n",
      "Epoch 39/40\n",
      "469/469 [==============================] - 2s 3ms/step - loss: 0.0077 - accuracy: 0.9974 - val_loss: 0.1559 - val_accuracy: 0.9727\n",
      "Epoch 40/40\n",
      "469/469 [==============================] - 2s 4ms/step - loss: 0.0060 - accuracy: 0.9981 - val_loss: 0.1646 - val_accuracy: 0.9724\n"
     ]
    }
   ],
   "source": [
    "train_images=train_images.reshape(60000, 784)\n",
    "test_images=test_images.reshape(10000, 784)\n",
    "test_images=test_images.astype(\"float32\")\n",
    "train_images=train_images.astype(\"float32\")\n",
    "test_images/=255\n",
    "train_images/=255\n",
    "model=tf.keras.Sequential([\n",
    "                           tf.keras.layers.Dense(64, activation=\"relu\", input_shape=(784,)),\n",
    "                           tf.keras.layers.Dense(64, activation=\"relu\"), \n",
    "                           tf.keras.layers.Dense(10, activation=\"softmax\"),])\n",
    "model.compile(optimizer=\"adam\", loss=\"sparse_categorical_crossentropy\", metrics=[\"accuracy\"])\n",
    "history=model.fit(train_images, train_labels, batch_size=128, epochs=40, verbose=1, validation_data=(test_images, test_labels))\n",
    "#validation_data fit in görevini de üstleniyor.\n",
    "#adam fonksiyonu epochs a 40 versek de başarı oranı optimize olduğunda 40 a gelmeden işlemi sonlandırıyor."
   ]
  },
  {
   "cell_type": "code",
   "execution_count": null,
   "metadata": {
    "colab": {
     "base_uri": "https://localhost:8080/"
    },
    "executionInfo": {
     "elapsed": 635,
     "status": "ok",
     "timestamp": 1628998195332,
     "user": {
      "displayName": "Adem Bakırcı",
      "photoUrl": "",
      "userId": "09233958262227189208"
     },
     "user_tz": -180
    },
    "id": "zraL8YWu7WOw",
    "outputId": "41376afe-3376-49ea-83e3-a847ee5a515f"
   },
   "outputs": [
    {
     "name": "stdout",
     "output_type": "stream",
     "text": [
      "313/313 [==============================] - 0s 1ms/step - loss: 0.1646 - accuracy: 0.9724\n",
      "Accuracy: 97.24\n"
     ]
    }
   ],
   "source": [
    "_, accuracy=model.evaluate(test_images, test_labels)\n",
    "print(\"Accuracy: %.2f\" % (accuracy*100))\n"
   ]
  },
  {
   "cell_type": "code",
   "execution_count": null,
   "metadata": {
    "colab": {
     "base_uri": "https://localhost:8080/",
     "height": 573
    },
    "executionInfo": {
     "elapsed": 1170,
     "status": "ok",
     "timestamp": 1628998212988,
     "user": {
      "displayName": "Adem Bakırcı",
      "photoUrl": "",
      "userId": "09233958262227189208"
     },
     "user_tz": -180
    },
    "id": "I7Op42Ro94L_",
    "outputId": "9d75d6a9-7184-4460-89bf-3dd4dcafdf5c"
   },
   "outputs": [
    {
     "data": {
      "image/png": "[encoded data removed]",
      "text/plain": [
       "<Figure size 432x288 with 1 Axes>"
      ]
     },
     "metadata": {
      "needs_background": "light",
      "tags": []
     },
     "output_type": "display_data"
    },
    {
     "data": {
      "image/png": "[encoded data removed]",
      "text/plain": [
       "<Figure size 432x288 with 1 Axes>"
      ]
     },
     "metadata": {
      "needs_background": "light",
      "tags": []
     },
     "output_type": "display_data"
    }
   ],
   "source": [
    "import matplotlib.pyplot as plt\n",
    "% matplotlib inline\n",
    "plt.plot(history.history[\"accuracy\"])\n",
    "plt.plot(history.history[\"val_accuracy\"])\n",
    "plt.title(\"Model accuracy\")\n",
    "plt.xlabel(\"Epoch\")\n",
    "plt.ylabel(\"Accuracy\")\n",
    "plt.legend([\"Train\", \"Test\"], loc=\"upper left\")\n",
    "plt.show()\n",
    "\n",
    "plt.plot(history.history[\"loss\"])\n",
    "plt.plot(history.history[\"val_loss\"])\n",
    "plt.title(\"Model loss\")\n",
    "plt.xlabel(\"Epoch\")\n",
    "plt.ylabel(\"loss\")\n",
    "plt.legend([\"Train\", \"Test\"], loc=\"upper left\")\n",
    "plt.show();"
   ]
  },
  {
   "cell_type": "code",
   "execution_count": null,
   "metadata": {
    "colab": {
     "base_uri": "https://localhost:8080/"
    },
    "executionInfo": {
     "elapsed": 442766,
     "status": "ok",
     "timestamp": 1628998812345,
     "user": {
      "displayName": "Adem Bakırcı",
      "photoUrl": "",
      "userId": "09233958262227189208"
     },
     "user_tz": -180
    },
    "id": "PqXmYM16_SIr",
    "outputId": "02e5d5c8-af35-4add-8b47-086c59e31091"
   },
   "outputs": [
    {
     "name": "stdout",
     "output_type": "stream",
     "text": [
      "Epoch 1/40\n",
      "469/469 [==============================] - 11s 22ms/step - loss: 0.6977 - accuracy: 0.7742 - val_loss: 0.3351 - val_accuracy: 0.8971\n",
      "Epoch 2/40\n",
      "469/469 [==============================] - 10s 21ms/step - loss: 0.2941 - accuracy: 0.9109 - val_loss: 0.2473 - val_accuracy: 0.9233\n",
      "Epoch 3/40\n",
      "469/469 [==============================] - 10s 21ms/step - loss: 0.2109 - accuracy: 0.9358 - val_loss: 0.2066 - val_accuracy: 0.9379\n",
      "Epoch 4/40\n",
      "469/469 [==============================] - 10s 22ms/step - loss: 0.1597 - accuracy: 0.9518 - val_loss: 0.1470 - val_accuracy: 0.9541\n",
      "Epoch 5/40\n",
      "469/469 [==============================] - 10s 21ms/step - loss: 0.1234 - accuracy: 0.9625 - val_loss: 0.1228 - val_accuracy: 0.9618\n",
      "Epoch 6/40\n",
      "469/469 [==============================] - 10s 22ms/step - loss: 0.1036 - accuracy: 0.9684 - val_loss: 0.1104 - val_accuracy: 0.9662\n",
      "Epoch 7/40\n",
      "469/469 [==============================] - 10s 21ms/step - loss: 0.0879 - accuracy: 0.9739 - val_loss: 0.1005 - val_accuracy: 0.9682\n",
      "Epoch 8/40\n",
      "469/469 [==============================] - 10s 21ms/step - loss: 0.0786 - accuracy: 0.9754 - val_loss: 0.0913 - val_accuracy: 0.9728\n",
      "Epoch 9/40\n",
      "469/469 [==============================] - 10s 22ms/step - loss: 0.0680 - accuracy: 0.9787 - val_loss: 0.0945 - val_accuracy: 0.9717\n",
      "Epoch 10/40\n",
      "469/469 [==============================] - 10s 21ms/step - loss: 0.0614 - accuracy: 0.9809 - val_loss: 0.0949 - val_accuracy: 0.9702\n",
      "Epoch 11/40\n",
      "469/469 [==============================] - 10s 21ms/step - loss: 0.0538 - accuracy: 0.9826 - val_loss: 0.0827 - val_accuracy: 0.9749\n",
      "Epoch 12/40\n",
      "469/469 [==============================] - 10s 21ms/step - loss: 0.0463 - accuracy: 0.9855 - val_loss: 0.0861 - val_accuracy: 0.9730\n",
      "Epoch 13/40\n",
      "469/469 [==============================] - 10s 21ms/step - loss: 0.0422 - accuracy: 0.9861 - val_loss: 0.0796 - val_accuracy: 0.9781\n",
      "Epoch 14/40\n",
      "469/469 [==============================] - 10s 21ms/step - loss: 0.0384 - accuracy: 0.9876 - val_loss: 0.0911 - val_accuracy: 0.9736\n",
      "Epoch 15/40\n",
      "469/469 [==============================] - 10s 21ms/step - loss: 0.0348 - accuracy: 0.9886 - val_loss: 0.0879 - val_accuracy: 0.9745\n",
      "Epoch 16/40\n",
      "469/469 [==============================] - 10s 21ms/step - loss: 0.0303 - accuracy: 0.9901 - val_loss: 0.0768 - val_accuracy: 0.9760\n",
      "Epoch 17/40\n",
      "469/469 [==============================] - 10s 21ms/step - loss: 0.0272 - accuracy: 0.9914 - val_loss: 0.0849 - val_accuracy: 0.9771\n",
      "Epoch 18/40\n",
      "469/469 [==============================] - 10s 21ms/step - loss: 0.0269 - accuracy: 0.9916 - val_loss: 0.0849 - val_accuracy: 0.9767\n",
      "Epoch 19/40\n",
      "469/469 [==============================] - 10s 21ms/step - loss: 0.0260 - accuracy: 0.9914 - val_loss: 0.0891 - val_accuracy: 0.9768\n",
      "Epoch 20/40\n",
      "469/469 [==============================] - 10s 21ms/step - loss: 0.0206 - accuracy: 0.9929 - val_loss: 0.0815 - val_accuracy: 0.9782\n",
      "Epoch 21/40\n",
      "469/469 [==============================] - 10s 21ms/step - loss: 0.0225 - accuracy: 0.9923 - val_loss: 0.0812 - val_accuracy: 0.9776\n",
      "Epoch 22/40\n",
      "469/469 [==============================] - 10s 21ms/step - loss: 0.0164 - accuracy: 0.9946 - val_loss: 0.0924 - val_accuracy: 0.9778\n",
      "Epoch 23/40\n",
      "469/469 [==============================] - 10s 21ms/step - loss: 0.0159 - accuracy: 0.9947 - val_loss: 0.0900 - val_accuracy: 0.9795\n",
      "Epoch 24/40\n",
      "469/469 [==============================] - 10s 21ms/step - loss: 0.0186 - accuracy: 0.9937 - val_loss: 0.0878 - val_accuracy: 0.9790\n",
      "Epoch 25/40\n",
      "469/469 [==============================] - 10s 21ms/step - loss: 0.0150 - accuracy: 0.9949 - val_loss: 0.0941 - val_accuracy: 0.9768\n",
      "Epoch 26/40\n",
      "469/469 [==============================] - 10s 21ms/step - loss: 0.0144 - accuracy: 0.9950 - val_loss: 0.0800 - val_accuracy: 0.9814\n",
      "Epoch 27/40\n",
      "469/469 [==============================] - 10s 22ms/step - loss: 0.0151 - accuracy: 0.9948 - val_loss: 0.0949 - val_accuracy: 0.9761\n",
      "Epoch 28/40\n",
      "469/469 [==============================] - 10s 22ms/step - loss: 0.0122 - accuracy: 0.9957 - val_loss: 0.0900 - val_accuracy: 0.9785\n",
      "Epoch 29/40\n",
      "469/469 [==============================] - 10s 22ms/step - loss: 0.0137 - accuracy: 0.9954 - val_loss: 0.1219 - val_accuracy: 0.9739\n",
      "Epoch 30/40\n",
      "469/469 [==============================] - 10s 21ms/step - loss: 0.0126 - accuracy: 0.9955 - val_loss: 0.1113 - val_accuracy: 0.9765\n",
      "Epoch 31/40\n",
      "469/469 [==============================] - 10s 21ms/step - loss: 0.0100 - accuracy: 0.9963 - val_loss: 0.0913 - val_accuracy: 0.9804\n",
      "Epoch 32/40\n",
      "469/469 [==============================] - 10s 22ms/step - loss: 0.0134 - accuracy: 0.9952 - val_loss: 0.1296 - val_accuracy: 0.9732\n",
      "Epoch 33/40\n",
      "469/469 [==============================] - 10s 22ms/step - loss: 0.0092 - accuracy: 0.9967 - val_loss: 0.1115 - val_accuracy: 0.9770\n",
      "Epoch 34/40\n",
      "469/469 [==============================] - 10s 21ms/step - loss: 0.0105 - accuracy: 0.9966 - val_loss: 0.0954 - val_accuracy: 0.9794\n",
      "Epoch 35/40\n",
      "469/469 [==============================] - 10s 22ms/step - loss: 0.0107 - accuracy: 0.9963 - val_loss: 0.1015 - val_accuracy: 0.9792\n",
      "Epoch 36/40\n",
      "469/469 [==============================] - 10s 21ms/step - loss: 0.0114 - accuracy: 0.9963 - val_loss: 0.0987 - val_accuracy: 0.9791\n",
      "Epoch 37/40\n",
      "469/469 [==============================] - 10s 22ms/step - loss: 0.0095 - accuracy: 0.9966 - val_loss: 0.0872 - val_accuracy: 0.9815\n",
      "Epoch 38/40\n",
      "469/469 [==============================] - 10s 21ms/step - loss: 0.0121 - accuracy: 0.9962 - val_loss: 0.0901 - val_accuracy: 0.9796\n",
      "Epoch 39/40\n",
      "469/469 [==============================] - 10s 22ms/step - loss: 0.0053 - accuracy: 0.9984 - val_loss: 0.0990 - val_accuracy: 0.9797\n",
      "Epoch 40/40\n",
      "469/469 [==============================] - 10s 22ms/step - loss: 0.0114 - accuracy: 0.9959 - val_loss: 0.1042 - val_accuracy: 0.9801\n"
     ]
    }
   ],
   "source": [
    "#şimdi layers ı ve nöron sayıaını arttıracağız\n",
    "train_images=train_images.reshape(60000, 784)\n",
    "test_images=test_images.reshape(10000, 784)\n",
    "test_images=test_images.astype(\"float32\")\n",
    "train_images=train_images.astype(\"float32\")\n",
    "test_images/=255\n",
    "train_images/=255\n",
    "model=tf.keras.Sequential([\n",
    "                           tf.keras.layers.Dense(512, activation=\"relu\", input_shape=(784,)),\n",
    "                           tf.keras.layers.Dense(512, activation=\"relu\"),\n",
    "                           tf.keras.layers.Dense(512, activation=\"relu\"), \n",
    "                           tf.keras.layers.Dense(10, activation=\"softmax\"),])#10 0 dan 9 a 10 tane sayı var\n",
    "model.compile(optimizer=\"adam\", loss=\"sparse_categorical_crossentropy\", metrics=[\"accuracy\"])\n",
    "history=model.fit(train_images, train_labels, batch_size=128, epochs=40, verbose=1, validation_data=(test_images, test_labels))\n"
   ]
  },
  {
   "cell_type": "code",
   "execution_count": null,
   "metadata": {
    "colab": {
     "base_uri": "https://localhost:8080/"
    },
    "executionInfo": {
     "elapsed": 1696,
     "status": "ok",
     "timestamp": 1628998820719,
     "user": {
      "displayName": "Adem Bakırcı",
      "photoUrl": "",
      "userId": "09233958262227189208"
     },
     "user_tz": -180
    },
    "id": "X6SqoeR93n_A",
    "outputId": "6accb448-6028-43f5-9b0a-6c015279c02a"
   },
   "outputs": [
    {
     "name": "stdout",
     "output_type": "stream",
     "text": [
      "313/313 [==============================] - 1s 4ms/step - loss: 0.1042 - accuracy: 0.9801\n",
      "Accuracy: 98.01\n"
     ]
    }
   ],
   "source": [
    "_, accuracy=model.evaluate(test_images, test_labels)\n",
    "print(\"Accuracy: %.2f\" % (accuracy*100))"
   ]
  },
  {
   "cell_type": "code",
   "execution_count": null,
   "metadata": {
    "id": "2imu49am5VtR"
   },
   "outputs": [],
   "source": [
    "#böylece layer ve nöron saayısını arttırdığımızda başarı oranımızın arttığını gördük"
   ]
  },
  {
   "cell_type": "code",
   "execution_count": null,
   "metadata": {
    "colab": {
     "base_uri": "https://localhost:8080/",
     "height": 573
    },
    "executionInfo": {
     "elapsed": 839,
     "status": "ok",
     "timestamp": 1628998905500,
     "user": {
      "displayName": "Adem Bakırcı",
      "photoUrl": "",
      "userId": "09233958262227189208"
     },
     "user_tz": -180
    },
    "id": "LIyKZj3_5j-O",
    "outputId": "d85176ef-cdc1-4b3e-d5b5-ea1cb5312064"
   },
   "outputs": [
    {
     "data": {
      "image/png": "[encoded data removed]",
      "text/plain": [
       "<Figure size 432x288 with 1 Axes>"
      ]
     },
     "metadata": {
      "needs_background": "light",
      "tags": []
     },
     "output_type": "display_data"
    },
    {
     "data": {
      "image/png": "[encoded data removed]",
      "text/plain": [
       "<Figure size 432x288 with 1 Axes>"
      ]
     },
     "metadata": {
      "needs_background": "light",
      "tags": []
     },
     "output_type": "display_data"
    }
   ],
   "source": [
    "import matplotlib.pyplot as plt\n",
    "% matplotlib inline\n",
    "plt.plot(history.history[\"accuracy\"])\n",
    "plt.plot(history.history[\"val_accuracy\"])\n",
    "plt.title(\"Model accuracy\")\n",
    "plt.xlabel(\"Epoch\")\n",
    "plt.ylabel(\"Accuracy\")\n",
    "plt.legend([\"Train\", \"Test\"], loc=\"upper left\")\n",
    "plt.show()\n",
    "\n",
    "plt.plot(history.history[\"loss\"])\n",
    "plt.plot(history.history[\"val_loss\"])\n",
    "plt.title(\"Model loss\")\n",
    "plt.xlabel(\"Epoch\")\n",
    "plt.ylabel(\"loss\")\n",
    "plt.legend([\"Train\", \"Test\"], loc=\"upper left\")\n",
    "plt.show();"
   ]
  },
  {
   "cell_type": "code",
   "execution_count": null,
   "metadata": {
    "id": "VRqI1Ni35qnQ"
   },
   "outputs": [],
   "source": [
    "#CNN"
   ]
  },
  {
   "cell_type": "code",
   "execution_count": null,
   "metadata": {
    "colab": {
     "base_uri": "https://localhost:8080/"
    },
    "executionInfo": {
     "elapsed": 383141,
     "status": "ok",
     "timestamp": 1629000617983,
     "user": {
      "displayName": "Adem Bakırcı",
      "photoUrl": "",
      "userId": "09233958262227189208"
     },
     "user_tz": -180
    },
    "id": "p-5YlJXK57IY",
    "outputId": "4d6849ed-6e65-469b-e26f-fbcf0388288d"
   },
   "outputs": [
    {
     "name": "stderr",
     "output_type": "stream",
     "text": [
      "/usr/local/lib/python3.7/dist-packages/tensorflow/python/keras/optimizer_v2/optimizer_v2.py:375: UserWarning: The `lr` argument is deprecated, use `learning_rate` instead.\n",
      "  \"The `lr` argument is deprecated, use `learning_rate` instead.\")\n"
     ]
    },
    {
     "name": "stdout",
     "output_type": "stream",
     "text": [
      "Epoch 1/10\n",
      "1875/1875 [==============================] - 39s 21ms/step - loss: 0.2283 - accuracy: 0.9315 - val_loss: 0.0971 - val_accuracy: 0.9705\n",
      "Epoch 2/10\n",
      "1875/1875 [==============================] - 38s 20ms/step - loss: 0.0750 - accuracy: 0.9774 - val_loss: 0.0599 - val_accuracy: 0.9816\n",
      "Epoch 3/10\n",
      "1875/1875 [==============================] - 38s 20ms/step - loss: 0.0491 - accuracy: 0.9851 - val_loss: 0.0529 - val_accuracy: 0.9819\n",
      "Epoch 4/10\n",
      "1875/1875 [==============================] - 38s 20ms/step - loss: 0.0351 - accuracy: 0.9892 - val_loss: 0.0513 - val_accuracy: 0.9828\n",
      "Epoch 5/10\n",
      "1875/1875 [==============================] - 38s 20ms/step - loss: 0.0257 - accuracy: 0.9923 - val_loss: 0.0539 - val_accuracy: 0.9822\n",
      "Epoch 6/10\n",
      "1875/1875 [==============================] - 38s 20ms/step - loss: 0.0189 - accuracy: 0.9944 - val_loss: 0.0415 - val_accuracy: 0.9859\n",
      "Epoch 7/10\n",
      "1875/1875 [==============================] - 38s 20ms/step - loss: 0.0140 - accuracy: 0.9961 - val_loss: 0.0408 - val_accuracy: 0.9866\n",
      "Epoch 8/10\n",
      "1875/1875 [==============================] - 38s 20ms/step - loss: 0.0100 - accuracy: 0.9975 - val_loss: 0.0434 - val_accuracy: 0.9863\n",
      "Epoch 9/10\n",
      "1875/1875 [==============================] - 38s 20ms/step - loss: 0.0071 - accuracy: 0.9983 - val_loss: 0.0422 - val_accuracy: 0.9857\n",
      "Epoch 10/10\n",
      "1875/1875 [==============================] - 38s 20ms/step - loss: 0.0049 - accuracy: 0.9989 - val_loss: 0.0496 - val_accuracy: 0.9863\n"
     ]
    }
   ],
   "source": [
    "import tensorflow as tf\n",
    " \n",
    "mnist=tf.keras.datasets.mnist\n",
    "(train_images, train_labels), (test_images, test_labels )=mnist.load_data()\n",
    "\n",
    "train_images=train_images.reshape(60000, 28, 28, 1)\n",
    "test_images=test_images.reshape(10000, 28, 28, 1)\n",
    "\n",
    "train_images, test_images=train_images/255.0, test_images/255.0\n",
    "\n",
    "\n",
    "model=tf.keras.Sequential([\n",
    "                           tf.keras.layers.Conv2D(32, (3,3), activation=\"relu\", input_shape=(28,28,1)),\n",
    "                           tf.keras.layers.MaxPooling2D(2,2),#resimleri 2 2 alıyor.\n",
    "                           tf.keras.layers.Flatten(),#flatten 2 boyutlu layerları birleştiriyor\n",
    "                           tf.keras.layers.Dense(100, activation=\"relu\"),\n",
    "                           tf.keras.layers.Dense(10, activation=\"softmax\") ])\n",
    "model.compile(optimizer=tf.keras.optimizers.SGD(lr=0.01, momentum=0.9), loss=\"sparse_categorical_crossentropy\",metrics=[\"accuracy\"])\n",
    "history=model.fit(train_images, train_labels, batch_size=32, epochs=10, verbose=1, validation_data=(test_images, test_labels))\n",
    "#lr=learning rate"
   ]
  },
  {
   "cell_type": "code",
   "execution_count": null,
   "metadata": {
    "colab": {
     "base_uri": "https://localhost:8080/"
    },
    "executionInfo": {
     "elapsed": 2876,
     "status": "ok",
     "timestamp": 1629000666134,
     "user": {
      "displayName": "Adem Bakırcı",
      "photoUrl": "",
      "userId": "09233958262227189208"
     },
     "user_tz": -180
    },
    "id": "tilS3j0z-G7H",
    "outputId": "3550bacd-d770-4f5c-a505-82858e21b325"
   },
   "outputs": [
    {
     "name": "stdout",
     "output_type": "stream",
     "text": [
      "313/313 [==============================] - 2s 7ms/step - loss: 0.0496 - accuracy: 0.9863\n",
      "Accuracy: 98.63\n"
     ]
    }
   ],
   "source": [
    "_, accuracy=model.evaluate(test_images, test_labels)\n",
    "print(\"Accuracy: %.2f\" % (accuracy*100))"
   ]
  },
  {
   "cell_type": "code",
   "execution_count": null,
   "metadata": {
    "id": "x8i7IH3cAX9j"
   },
   "outputs": [],
   "source": [
    "#CNN ile başarı oranımız biraz daha yükselmiş oldu."
   ]
  },
  {
   "cell_type": "code",
   "execution_count": 32,
   "metadata": {
    "colab": {
     "base_uri": "https://localhost:8080/",
     "height": 572
    },
    "executionInfo": {
     "elapsed": 998,
     "status": "ok",
     "timestamp": 1629000871749,
     "user": {
      "displayName": "Adem Bakırcı",
      "photoUrl": "",
      "userId": "09233958262227189208"
     },
     "user_tz": -180
    },
    "id": "haH-42X0AkSL",
    "outputId": "2be5be50-a264-476e-d20e-97df7bd12d0f"
   },
   "outputs": [
    {
     "data": {
      "image/png": "[encoded data removed]",
      "text/plain": [
       "<Figure size 432x288 with 1 Axes>"
      ]
     },
     "metadata": {
      "needs_background": "light",
      "tags": []
     },
     "output_type": "display_data"
    },
    {
     "data": {
      "image/png": "[encoded data removed]",
      "text/plain": [
       "<Figure size 432x288 with 1 Axes>"
      ]
     },
     "metadata": {
      "needs_background": "light",
      "tags": []
     },
     "output_type": "display_data"
    }
   ],
   "source": [
    "import matplotlib.pyplot as plt\n",
    "% matplotlib inline\n",
    "plt.plot(history.history[\"accuracy\"])\n",
    "plt.plot(history.history[\"val_accuracy\"])\n",
    "plt.title(\"Model accuracy\")\n",
    "plt.xlabel(\"Epoch\")\n",
    "plt.ylabel(\"Accuracy\")\n",
    "plt.legend([\"Train\", \"Test\"], loc=\"upper left\")\n",
    "plt.show()\n",
    "\n",
    "plt.plot(history.history[\"loss\"])\n",
    "plt.plot(history.history[\"val_loss\"])\n",
    "plt.title(\"Model loss\")\n",
    "plt.xlabel(\"Epoch\")\n",
    "plt.ylabel(\"loss\")\n",
    "plt.legend([\"Train\", \"Test\"], loc=\"upper left\")\n",
    "plt.show();"
   ]
  },
  {
   "cell_type": "code",
   "execution_count": 34,
   "metadata": {
    "colab": {
     "base_uri": "https://localhost:8080/"
    },
    "executionInfo": {
     "elapsed": 2423217,
     "status": "ok",
     "timestamp": 1629003579851,
     "user": {
      "displayName": "Adem Bakırcı",
      "photoUrl": "",
      "userId": "09233958262227189208"
     },
     "user_tz": -180
    },
    "id": "FIytAa2rBKfT",
    "outputId": "1de5a06b-1d5f-482a-fb00-18fef58c3cd0"
   },
   "outputs": [
    {
     "name": "stderr",
     "output_type": "stream",
     "text": [
      "/usr/local/lib/python3.7/dist-packages/tensorflow/python/keras/optimizer_v2/optimizer_v2.py:375: UserWarning: The `lr` argument is deprecated, use `learning_rate` instead.\n",
      "  \"The `lr` argument is deprecated, use `learning_rate` instead.\")\n"
     ]
    },
    {
     "name": "stdout",
     "output_type": "stream",
     "text": [
      "Epoch 1/15\n",
      "1875/1875 [==============================] - 161s 86ms/step - loss: 0.1917 - accuracy: 0.9427 - val_loss: 0.0740 - val_accuracy: 0.9761\n",
      "Epoch 2/15\n",
      "1875/1875 [==============================] - 161s 86ms/step - loss: 0.0534 - accuracy: 0.9834 - val_loss: 0.0417 - val_accuracy: 0.9861\n",
      "Epoch 3/15\n",
      "1875/1875 [==============================] - 162s 86ms/step - loss: 0.0335 - accuracy: 0.9895 - val_loss: 0.0379 - val_accuracy: 0.9876\n",
      "Epoch 4/15\n",
      "1875/1875 [==============================] - 160s 85ms/step - loss: 0.0225 - accuracy: 0.9928 - val_loss: 0.0335 - val_accuracy: 0.9885\n",
      "Epoch 5/15\n",
      "1875/1875 [==============================] - 161s 86ms/step - loss: 0.0145 - accuracy: 0.9956 - val_loss: 0.0440 - val_accuracy: 0.9862\n",
      "Epoch 6/15\n",
      "1875/1875 [==============================] - 161s 86ms/step - loss: 0.0113 - accuracy: 0.9965 - val_loss: 0.0379 - val_accuracy: 0.9892\n",
      "Epoch 7/15\n",
      "1875/1875 [==============================] - 160s 85ms/step - loss: 0.0078 - accuracy: 0.9977 - val_loss: 0.0362 - val_accuracy: 0.9895\n",
      "Epoch 8/15\n",
      "1875/1875 [==============================] - 160s 85ms/step - loss: 0.0051 - accuracy: 0.9987 - val_loss: 0.0465 - val_accuracy: 0.9873\n",
      "Epoch 9/15\n",
      "1875/1875 [==============================] - 160s 85ms/step - loss: 0.0041 - accuracy: 0.9987 - val_loss: 0.0556 - val_accuracy: 0.9869\n",
      "Epoch 10/15\n",
      "1875/1875 [==============================] - 160s 86ms/step - loss: 0.0034 - accuracy: 0.9990 - val_loss: 0.0391 - val_accuracy: 0.9901\n",
      "Epoch 11/15\n",
      "1875/1875 [==============================] - 160s 85ms/step - loss: 0.0035 - accuracy: 0.9989 - val_loss: 0.0433 - val_accuracy: 0.9887\n",
      "Epoch 12/15\n",
      "1875/1875 [==============================] - 160s 86ms/step - loss: 0.0020 - accuracy: 0.9994 - val_loss: 0.0424 - val_accuracy: 0.9895\n",
      "Epoch 13/15\n",
      "1875/1875 [==============================] - 161s 86ms/step - loss: 0.0014 - accuracy: 0.9997 - val_loss: 0.0393 - val_accuracy: 0.9913\n",
      "Epoch 14/15\n",
      "1875/1875 [==============================] - 161s 86ms/step - loss: 7.9279e-04 - accuracy: 0.9998 - val_loss: 0.0409 - val_accuracy: 0.9901\n",
      "Epoch 15/15\n",
      "1875/1875 [==============================] - 161s 86ms/step - loss: 1.3217e-04 - accuracy: 1.0000 - val_loss: 0.0410 - val_accuracy: 0.9910\n"
     ]
    }
   ],
   "source": [
    "import tensorflow as tf\n",
    " \n",
    "mnist=tf.keras.datasets.mnist\n",
    "(train_images, train_labels), (test_images, test_labels )=mnist.load_data()\n",
    "\n",
    "train_images=train_images.reshape(60000, 28, 28, 1)\n",
    "test_images=test_images.reshape(10000, 28, 28, 1)\n",
    "\n",
    "train_images, test_images=train_images/255.0, test_images/255.0\n",
    "\n",
    "\n",
    "model=tf.keras.Sequential([\n",
    "                           tf.keras.layers.Conv2D(32, (3,3), activation=\"relu\", input_shape=(28,28,1)),\n",
    "                           tf.keras.layers.Conv2D(64, (3,3), activation=\"relu\", input_shape=(28,28,1)),\n",
    "                           tf.keras.layers.MaxPooling2D(2,2),#resimleri 2 2 alıyor.\n",
    "                           tf.keras.layers.Flatten(),#flatten 2 boyutlu layerları birleştiriyor\n",
    "                           tf.keras.layers.Dense(100, activation=\"relu\"),\n",
    "                           tf.keras.layers.Dense(10, activation=\"softmax\") ])\n",
    "model.compile(optimizer=tf.keras.optimizers.SGD(lr=0.01, momentum=0.9), loss=\"sparse_categorical_crossentropy\",metrics=[\"accuracy\"])\n",
    "history=model.fit(train_images, train_labels, batch_size=32, epochs=15, verbose=1, validation_data=(test_images, test_labels))\n",
    "#Conv2d layerını bir tane nöron sayısını 64 e ve epochs u 15 çıkardık"
   ]
  },
  {
   "cell_type": "code",
   "execution_count": 35,
   "metadata": {
    "colab": {
     "base_uri": "https://localhost:8080/"
    },
    "executionInfo": {
     "elapsed": 10576,
     "status": "ok",
     "timestamp": 1629003597900,
     "user": {
      "displayName": "Adem Bakırcı",
      "photoUrl": "",
      "userId": "09233958262227189208"
     },
     "user_tz": -180
    },
    "id": "O-4peQofCMNb",
    "outputId": "33b8ec40-1e72-43e9-eccb-4eeedaeb90ed"
   },
   "outputs": [
    {
     "name": "stdout",
     "output_type": "stream",
     "text": [
      "313/313 [==============================] - 7s 22ms/step - loss: 0.0410 - accuracy: 0.9910\n",
      "Accuracy: 99.10\n"
     ]
    }
   ],
   "source": [
    "_, accuracy=model.evaluate(test_images, test_labels)\n",
    "print(\"Accuracy: %.2f\" % (accuracy*100))"
   ]
  },
  {
   "cell_type": "code",
   "execution_count": 36,
   "metadata": {
    "colab": {
     "base_uri": "https://localhost:8080/",
     "height": 572
    },
    "executionInfo": {
     "elapsed": 621,
     "status": "ok",
     "timestamp": 1629003602626,
     "user": {
      "displayName": "Adem Bakırcı",
      "photoUrl": "",
      "userId": "09233958262227189208"
     },
     "user_tz": -180
    },
    "id": "iu7hPCVlCfwt",
    "outputId": "4926213d-0f64-4cfd-c05a-dc9c7d5f88e5"
   },
   "outputs": [
    {
     "data": {
      "image/png": "[encoded data removed]",
      "text/plain": [
       "<Figure size 432x288 with 1 Axes>"
      ]
     },
     "metadata": {
      "needs_background": "light",
      "tags": []
     },
     "output_type": "display_data"
    },
    {
     "data": {
      "image/png": "[encoded data removed]",
      "text/plain": [
       "<Figure size 432x288 with 1 Axes>"
      ]
     },
     "metadata": {
      "needs_background": "light",
      "tags": []
     },
     "output_type": "display_data"
    }
   ],
   "source": [
    "import matplotlib.pyplot as plt\n",
    "% matplotlib inline\n",
    "plt.plot(history.history[\"accuracy\"])\n",
    "plt.plot(history.history[\"val_accuracy\"])\n",
    "plt.title(\"Model accuracy\")\n",
    "plt.xlabel(\"Epoch\")\n",
    "plt.ylabel(\"Accuracy\")\n",
    "plt.legend([\"Train\", \"Test\"], loc=\"upper left\")\n",
    "plt.show()\n",
    "\n",
    "plt.plot(history.history[\"loss\"])\n",
    "plt.plot(history.history[\"val_loss\"])\n",
    "plt.title(\"Model loss\")\n",
    "plt.xlabel(\"Epoch\")\n",
    "plt.ylabel(\"loss\")\n",
    "plt.legend([\"Train\", \"Test\"], loc=\"upper left\")\n",
    "plt.show();"
   ]
  },
  {
   "cell_type": "code",
   "execution_count": null,
   "metadata": {
    "id": "WHPgMtQoEAog"
   },
   "outputs": [],
   "source": [
    "#dropout(sütunları silip sütunlara karşı objektif davranılmasını sağlıyor.) modülünü ekleyerek başarımızı arttırmaya çalışacağız"
   ]
  },
  {
   "cell_type": "code",
   "execution_count": 37,
   "metadata": {
    "colab": {
     "base_uri": "https://localhost:8080/"
    },
    "executionInfo": {
     "elapsed": 2543230,
     "status": "ok",
     "timestamp": 1629006940253,
     "user": {
      "displayName": "Adem Bakırcı",
      "photoUrl": "",
      "userId": "09233958262227189208"
     },
     "user_tz": -180
    },
    "id": "3uIf-d9XEX2Q",
    "outputId": "64a73db9-4c9e-4770-9e99-49e26f2b403a"
   },
   "outputs": [
    {
     "name": "stderr",
     "output_type": "stream",
     "text": [
      "/usr/local/lib/python3.7/dist-packages/tensorflow/python/keras/optimizer_v2/optimizer_v2.py:375: UserWarning: The `lr` argument is deprecated, use `learning_rate` instead.\n",
      "  \"The `lr` argument is deprecated, use `learning_rate` instead.\")\n"
     ]
    },
    {
     "name": "stdout",
     "output_type": "stream",
     "text": [
      "Epoch 1/15\n",
      "1875/1875 [==============================] - 165s 88ms/step - loss: 0.3060 - accuracy: 0.9039 - val_loss: 0.0629 - val_accuracy: 0.9796\n",
      "Epoch 2/15\n",
      "1875/1875 [==============================] - 166s 89ms/step - loss: 0.1152 - accuracy: 0.9655 - val_loss: 0.0449 - val_accuracy: 0.9869\n",
      "Epoch 3/15\n",
      "1875/1875 [==============================] - 166s 89ms/step - loss: 0.0859 - accuracy: 0.9742 - val_loss: 0.0388 - val_accuracy: 0.9869\n",
      "Epoch 4/15\n",
      "1875/1875 [==============================] - 166s 88ms/step - loss: 0.0734 - accuracy: 0.9779 - val_loss: 0.0443 - val_accuracy: 0.9856\n",
      "Epoch 5/15\n",
      "1875/1875 [==============================] - 166s 88ms/step - loss: 0.0625 - accuracy: 0.9811 - val_loss: 0.0335 - val_accuracy: 0.9900\n",
      "Epoch 6/15\n",
      "1875/1875 [==============================] - 166s 89ms/step - loss: 0.0541 - accuracy: 0.9831 - val_loss: 0.0336 - val_accuracy: 0.9892\n",
      "Epoch 7/15\n",
      "1875/1875 [==============================] - 167s 89ms/step - loss: 0.0488 - accuracy: 0.9845 - val_loss: 0.0335 - val_accuracy: 0.9897\n",
      "Epoch 8/15\n",
      "1875/1875 [==============================] - 166s 88ms/step - loss: 0.0469 - accuracy: 0.9850 - val_loss: 0.0295 - val_accuracy: 0.9907\n",
      "Epoch 9/15\n",
      "1875/1875 [==============================] - 166s 89ms/step - loss: 0.0430 - accuracy: 0.9862 - val_loss: 0.0298 - val_accuracy: 0.9908\n",
      "Epoch 10/15\n",
      "1875/1875 [==============================] - 166s 89ms/step - loss: 0.0382 - accuracy: 0.9881 - val_loss: 0.0288 - val_accuracy: 0.9917\n",
      "Epoch 11/15\n",
      "1875/1875 [==============================] - 166s 88ms/step - loss: 0.0357 - accuracy: 0.9883 - val_loss: 0.0313 - val_accuracy: 0.9911\n",
      "Epoch 12/15\n",
      "1875/1875 [==============================] - 165s 88ms/step - loss: 0.0352 - accuracy: 0.9891 - val_loss: 0.0313 - val_accuracy: 0.9906\n",
      "Epoch 13/15\n",
      "1875/1875 [==============================] - 165s 88ms/step - loss: 0.0329 - accuracy: 0.9891 - val_loss: 0.0309 - val_accuracy: 0.9915\n",
      "Epoch 14/15\n",
      "1875/1875 [==============================] - 164s 88ms/step - loss: 0.0291 - accuracy: 0.9905 - val_loss: 0.0290 - val_accuracy: 0.9913\n",
      "Epoch 15/15\n",
      "1875/1875 [==============================] - 165s 88ms/step - loss: 0.0283 - accuracy: 0.9909 - val_loss: 0.0338 - val_accuracy: 0.9906\n"
     ]
    }
   ],
   "source": [
    "import tensorflow as tf\n",
    " \n",
    "mnist=tf.keras.datasets.mnist\n",
    "(train_images, train_labels), (test_images, test_labels )=mnist.load_data()\n",
    "\n",
    "train_images=train_images.reshape(60000, 28, 28, 1)\n",
    "test_images=test_images.reshape(10000, 28, 28, 1)\n",
    "\n",
    "train_images, test_images=train_images/255.0, test_images/255.0\n",
    "\n",
    "\n",
    "model=tf.keras.Sequential([\n",
    "                           tf.keras.layers.Conv2D(32, (3,3), activation=\"relu\", input_shape=(28,28,1)),\n",
    "                           tf.keras.layers.Conv2D(64, (3,3), activation=\"relu\", input_shape=(28,28,1)),\n",
    "                           tf.keras.layers.MaxPooling2D(2,2),#resimleri 2 2 alıyor.\n",
    "                           tf.keras.layers.Dropout(0.25),#3. layerın %25 ini attı\n",
    "                           tf.keras.layers.Flatten(),#flatten 2 boyutlu layerları birleştiriyor\n",
    "                           tf.keras.layers.Dense(100, activation=\"relu\"),\n",
    "                           tf.keras.layers.Dropout(0.5),#5. layerın %50 ini attı\n",
    "                           tf.keras.layers.Dense(10, activation=\"softmax\") ])\n",
    "model.compile(optimizer=tf.keras.optimizers.SGD(lr=0.01, momentum=0.9), loss=\"sparse_categorical_crossentropy\",metrics=[\"accuracy\"])\n",
    "history=model.fit(train_images, train_labels, batch_size=32, epochs=15, verbose=1, validation_data=(test_images, test_labels))\n"
   ]
  },
  {
   "cell_type": "code",
   "execution_count": 38,
   "metadata": {
    "colab": {
     "base_uri": "https://localhost:8080/"
    },
    "executionInfo": {
     "elapsed": 10331,
     "status": "ok",
     "timestamp": 1629006950555,
     "user": {
      "displayName": "Adem Bakırcı",
      "photoUrl": "",
      "userId": "09233958262227189208"
     },
     "user_tz": -180
    },
    "id": "FCkMkidNFNEI",
    "outputId": "74a20745-df45-45a5-8977-275c99fc3cf0"
   },
   "outputs": [
    {
     "name": "stdout",
     "output_type": "stream",
     "text": [
      "313/313 [==============================] - 7s 21ms/step - loss: 0.0338 - accuracy: 0.9906\n",
      "Accuracy: 99.06\n"
     ]
    }
   ],
   "source": [
    "_, accuracy=model.evaluate(test_images, test_labels)\n",
    "print(\"Accuracy: %.2f\" % (accuracy*100))"
   ]
  },
  {
   "cell_type": "code",
   "execution_count": 39,
   "metadata": {
    "colab": {
     "base_uri": "https://localhost:8080/",
     "height": 0
    },
    "executionInfo": {
     "elapsed": 873,
     "status": "ok",
     "timestamp": 1629006951414,
     "user": {
      "displayName": "Adem Bakırcı",
      "photoUrl": "",
      "userId": "09233958262227189208"
     },
     "user_tz": -180
    },
    "id": "2ChyZdFeFRCw",
    "outputId": "e11a643b-afad-43bb-eb23-1ce42cee4c96"
   },
   "outputs": [
    {
     "data": {
      "image/png": "[encoded data removed]",
      "text/plain": [
       "<Figure size 432x288 with 1 Axes>"
      ]
     },
     "metadata": {
      "needs_background": "light",
      "tags": []
     },
     "output_type": "display_data"
    },
    {
     "data": {
      "image/png": "[encoded data removed]",
      "text/plain": [
       "<Figure size 432x288 with 1 Axes>"
      ]
     },
     "metadata": {
      "needs_background": "light",
      "tags": []
     },
     "output_type": "display_data"
    }
   ],
   "source": [
    "import matplotlib.pyplot as plt\n",
    "% matplotlib inline\n",
    "plt.plot(history.history[\"accuracy\"])\n",
    "plt.plot(history.history[\"val_accuracy\"])\n",
    "plt.title(\"Model accuracy\")\n",
    "plt.xlabel(\"Epoch\")\n",
    "plt.ylabel(\"Accuracy\")\n",
    "plt.legend([\"Train\", \"Test\"], loc=\"upper left\")\n",
    "plt.show()\n",
    "\n",
    "plt.plot(history.history[\"loss\"])\n",
    "plt.plot(history.history[\"val_loss\"])\n",
    "plt.title(\"Model loss\")\n",
    "plt.xlabel(\"Epoch\")\n",
    "plt.ylabel(\"loss\")\n",
    "plt.legend([\"Train\", \"Test\"], loc=\"upper left\")\n",
    "plt.show();"
   ]
  },
  {
   "cell_type": "code",
   "execution_count": null,
   "metadata": {
    "id": "114j6jIHFW3R"
   },
   "outputs": [],
   "source": [
    "#BATCHNORMALIZATION(yaralıların sarılıp noksanlıklar giderilip savaşa devam )"
   ]
  },
  {
   "cell_type": "code",
   "execution_count": 40,
   "metadata": {
    "colab": {
     "base_uri": "https://localhost:8080/"
    },
    "executionInfo": {
     "elapsed": 2783114,
     "status": "ok",
     "timestamp": 1629009734524,
     "user": {
      "displayName": "Adem Bakırcı",
      "photoUrl": "",
      "userId": "09233958262227189208"
     },
     "user_tz": -180
    },
    "id": "7Z6lHlo5Gd5k",
    "outputId": "b6887116-069a-4202-8090-dfc433244ab7"
   },
   "outputs": [
    {
     "name": "stderr",
     "output_type": "stream",
     "text": [
      "/usr/local/lib/python3.7/dist-packages/tensorflow/python/keras/optimizer_v2/optimizer_v2.py:375: UserWarning: The `lr` argument is deprecated, use `learning_rate` instead.\n",
      "  \"The `lr` argument is deprecated, use `learning_rate` instead.\")\n"
     ]
    },
    {
     "name": "stdout",
     "output_type": "stream",
     "text": [
      "Epoch 1/15\n",
      "1875/1875 [==============================] - 184s 98ms/step - loss: 0.0970 - accuracy: 0.9708 - val_loss: 0.0516 - val_accuracy: 0.9845\n",
      "Epoch 2/15\n",
      "1875/1875 [==============================] - 184s 98ms/step - loss: 0.0370 - accuracy: 0.9888 - val_loss: 0.0427 - val_accuracy: 0.9867\n",
      "Epoch 3/15\n",
      "1875/1875 [==============================] - 184s 98ms/step - loss: 0.0241 - accuracy: 0.9931 - val_loss: 0.0325 - val_accuracy: 0.9894\n",
      "Epoch 4/15\n",
      "1875/1875 [==============================] - 184s 98ms/step - loss: 0.0160 - accuracy: 0.9950 - val_loss: 0.0308 - val_accuracy: 0.9904\n",
      "Epoch 5/15\n",
      "1875/1875 [==============================] - 183s 98ms/step - loss: 0.0103 - accuracy: 0.9975 - val_loss: 0.0356 - val_accuracy: 0.9905\n",
      "Epoch 6/15\n",
      "1875/1875 [==============================] - 183s 98ms/step - loss: 0.0072 - accuracy: 0.9980 - val_loss: 0.0285 - val_accuracy: 0.9913\n",
      "Epoch 7/15\n",
      "1875/1875 [==============================] - 183s 98ms/step - loss: 0.0062 - accuracy: 0.9983 - val_loss: 0.0296 - val_accuracy: 0.9924\n",
      "Epoch 8/15\n",
      "1875/1875 [==============================] - 183s 98ms/step - loss: 0.0040 - accuracy: 0.9992 - val_loss: 0.0302 - val_accuracy: 0.9912\n",
      "Epoch 9/15\n",
      "1875/1875 [==============================] - 183s 98ms/step - loss: 0.0026 - accuracy: 0.9995 - val_loss: 0.0317 - val_accuracy: 0.9913\n",
      "Epoch 10/15\n",
      "1875/1875 [==============================] - 183s 98ms/step - loss: 0.0024 - accuracy: 0.9995 - val_loss: 0.0298 - val_accuracy: 0.9917\n",
      "Epoch 11/15\n",
      "1875/1875 [==============================] - 184s 98ms/step - loss: 0.0016 - accuracy: 0.9998 - val_loss: 0.0298 - val_accuracy: 0.9923\n",
      "Epoch 12/15\n",
      "1875/1875 [==============================] - 183s 98ms/step - loss: 0.0011 - accuracy: 0.9998 - val_loss: 0.0319 - val_accuracy: 0.9919\n",
      "Epoch 13/15\n",
      "1875/1875 [==============================] - 183s 98ms/step - loss: 0.0017 - accuracy: 0.9997 - val_loss: 0.0311 - val_accuracy: 0.9916\n",
      "Epoch 14/15\n",
      "1875/1875 [==============================] - 183s 98ms/step - loss: 0.0013 - accuracy: 0.9998 - val_loss: 0.0285 - val_accuracy: 0.9918\n",
      "Epoch 15/15\n",
      "1875/1875 [==============================] - 183s 98ms/step - loss: 0.0011 - accuracy: 0.9998 - val_loss: 0.0318 - val_accuracy: 0.9918\n"
     ]
    }
   ],
   "source": [
    "import tensorflow as tf\n",
    " \n",
    "mnist=tf.keras.datasets.mnist\n",
    "(train_images, train_labels), (test_images, test_labels )=mnist.load_data()\n",
    "\n",
    "train_images=train_images.reshape(60000, 28, 28, 1)\n",
    "test_images=test_images.reshape(10000, 28, 28, 1)\n",
    "\n",
    "train_images, test_images=train_images/255.0, test_images/255.0\n",
    "\n",
    "\n",
    "model=tf.keras.Sequential([\n",
    "                           tf.keras.layers.Conv2D(32, (3,3), activation=\"relu\", input_shape=(28,28,1)),\n",
    "                           tf.keras.layers.BatchNormalization(),\n",
    "                           tf.keras.layers.Conv2D(64, (3,3), activation=\"relu\", input_shape=(28,28,1)),\n",
    "                           tf.keras.layers.MaxPooling2D(2,2),#resimleri 2 2 alıyor.\n",
    "                           tf.keras.layers.BatchNormalization(),\n",
    "                           tf.keras.layers.Flatten(),#flatten 2 boyutlu layerları birleştiriyor\n",
    "                           tf.keras.layers.Dense(100, activation=\"relu\"),\n",
    "                           tf.keras.layers.BatchNormalization(),\n",
    "                           tf.keras.layers.Dense(10, activation=\"softmax\") ])\n",
    "model.compile(optimizer=tf.keras.optimizers.SGD(lr=0.01, momentum=0.9), loss=\"sparse_categorical_crossentropy\",metrics=[\"accuracy\"])\n",
    "history=model.fit(train_images, train_labels, batch_size=32, epochs=15, verbose=1, validation_data=(test_images, test_labels))\n"
   ]
  },
  {
   "cell_type": "code",
   "execution_count": 41,
   "metadata": {
    "colab": {
     "base_uri": "https://localhost:8080/"
    },
    "executionInfo": {
     "elapsed": 7456,
     "status": "ok",
     "timestamp": 1629009741942,
     "user": {
      "displayName": "Adem Bakırcı",
      "photoUrl": "",
      "userId": "09233958262227189208"
     },
     "user_tz": -180
    },
    "id": "xYpY7u0kG-vz",
    "outputId": "1ca52ce2-d622-4848-bb42-4a7e23662266"
   },
   "outputs": [
    {
     "name": "stdout",
     "output_type": "stream",
     "text": [
      "313/313 [==============================] - 8s 24ms/step - loss: 0.0318 - accuracy: 0.9918\n",
      "Accuracy: 99.18\n"
     ]
    }
   ],
   "source": [
    "_, accuracy=model.evaluate(test_images, test_labels)\n",
    "print(\"Accuracy: %.2f\" % (accuracy*100))"
   ]
  },
  {
   "cell_type": "code",
   "execution_count": 42,
   "metadata": {
    "colab": {
     "base_uri": "https://localhost:8080/",
     "height": 572
    },
    "executionInfo": {
     "elapsed": 736,
     "status": "ok",
     "timestamp": 1629009742663,
     "user": {
      "displayName": "Adem Bakırcı",
      "photoUrl": "",
      "userId": "09233958262227189208"
     },
     "user_tz": -180
    },
    "id": "kLYWOTL4HDx2",
    "outputId": "06c3e49a-466b-447c-d0fb-70b6dc57b521"
   },
   "outputs": [
    {
     "data": {
      "image/png": "[encoded data removed]",
      "text/plain": [
       "<Figure size 432x288 with 1 Axes>"
      ]
     },
     "metadata": {
      "needs_background": "light",
      "tags": []
     },
     "output_type": "display_data"
    },
    {
     "data": {
      "image/png": "[encoded data removed]",
      "text/plain": [
       "<Figure size 432x288 with 1 Axes>"
      ]
     },
     "metadata": {
      "needs_background": "light",
      "tags": []
     },
     "output_type": "display_data"
    }
   ],
   "source": [
    "import matplotlib.pyplot as plt\n",
    "% matplotlib inline\n",
    "plt.plot(history.history[\"accuracy\"])\n",
    "plt.plot(history.history[\"val_accuracy\"])\n",
    "plt.title(\"Model accuracy\")\n",
    "plt.xlabel(\"Epoch\")\n",
    "plt.ylabel(\"Accuracy\")\n",
    "plt.legend([\"Train\", \"Test\"], loc=\"upper left\")\n",
    "plt.show()\n",
    "\n",
    "plt.plot(history.history[\"loss\"])\n",
    "plt.plot(history.history[\"val_loss\"])\n",
    "plt.title(\"Model loss\")\n",
    "plt.xlabel(\"Epoch\")\n",
    "plt.ylabel(\"loss\")\n",
    "plt.legend([\"Train\", \"Test\"], loc=\"upper left\")\n",
    "plt.show();"
   ]
  }
 ],
 "metadata": {
  "colab": {
   "authorship_tag": "ABX9TyPaMJC4eUl2BUiCmSoPzszK",
   "collapsed_sections": [],
   "name": "Deep Learning.ipynb",
   "provenance": []
  },
  "kernelspec": {
   "display_name": "Python 3",
   "language": "python",
   "name": "python3"
  },
  "language_info": {
   "codemirror_mode": {
    "name": "ipython",
    "version": 3
   },
   "file_extension": ".py",
   "mimetype": "text/x-python",
   "name": "python",
   "nbconvert_exporter": "python",
   "pygments_lexer": "ipython3",
   "version": "3.8.5"
  }
 },
 "nbformat": 4,
 "nbformat_minor": 1
}
